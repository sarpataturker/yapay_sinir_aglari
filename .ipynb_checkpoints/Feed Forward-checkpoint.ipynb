{
 "cells": [
  {
   "cell_type": "code",
   "execution_count": 1,
   "id": "09942930",
   "metadata": {},
   "outputs": [],
   "source": [
    "import torch"
   ]
  },
  {
   "cell_type": "markdown",
   "id": "0d25a4b3",
   "metadata": {},
   "source": [
    "X Matrisimiz"
   ]
  },
  {
   "cell_type": "code",
   "execution_count": 2,
   "id": "3f91b6b8",
   "metadata": {},
   "outputs": [
    {
     "data": {
      "text/plain": [
       "tensor([[1., 2., 3.],\n",
       "        [4., 5., 6.]])"
      ]
     },
     "execution_count": 2,
     "metadata": {},
     "output_type": "execute_result"
    }
   ],
   "source": [
    "x = torch.tensor([1,2,3,4,5,6]).reshape(-1,3).float()\n",
    "x"
   ]
  },
  {
   "cell_type": "markdown",
   "id": "522f42ec",
   "metadata": {},
   "source": [
    "Sigmoid Fonksiyonumuz"
   ]
  },
  {
   "cell_type": "code",
   "execution_count": 3,
   "id": "8682785e",
   "metadata": {},
   "outputs": [],
   "source": [
    "# $f(x) = \\frac{1}{1 + exp(-x)}$\n",
    "\n",
    "def sigmoid_activation(x):\n",
    "  return 1 / (1 + torch.exp(-x))"
   ]
  },
  {
   "cell_type": "markdown",
   "id": "3b2c0b7c",
   "metadata": {},
   "source": [
    "Tanh Fonksiyonumuz"
   ]
  },
  {
   "cell_type": "code",
   "execution_count": 4,
   "id": "0732435b",
   "metadata": {},
   "outputs": [],
   "source": [
    "# $f(x) = \\frac{exp(x) - exp(-x)}{exp(x) + exp(-x)}$\n",
    "def tanh_function(x):\n",
    "    return ((torch.exp(x)-torch.exp(-x))/(torch.exp(x)+torch.exp(-x)))"
   ]
  },
  {
   "cell_type": "markdown",
   "id": "f08b23a1",
   "metadata": {},
   "source": [
    "Seed değerimiz = 1"
   ]
  },
  {
   "cell_type": "code",
   "execution_count": 5,
   "id": "ecec37b6",
   "metadata": {},
   "outputs": [
    {
     "name": "stdout",
     "output_type": "stream",
     "text": [
      "tensor([[0.3414, 0.4518]])\n"
     ]
    }
   ],
   "source": [
    "torch.manual_seed(1)\n",
    "weight1 = torch.randn(50, 3) \n",
    "bias1 = torch.randn(50, 1) \n",
    "\n",
    "weight2 = torch.randn(1,50)\n",
    "bias2 = torch.randn(1, 1)\n",
    "\n",
    "hidden1 = tanh_function(torch.matmul(weight1,x.T)+bias1)\n",
    "output1 = sigmoid_activation(torch.matmul(weight2,hidden1)+bias2)\n",
    "\n",
    "print(output1)"
   ]
  },
  {
   "cell_type": "markdown",
   "id": "f97a2ea9",
   "metadata": {},
   "source": [
    "Seed değerimiz = Öğrenci Numaram = 190401015"
   ]
  },
  {
   "cell_type": "code",
   "execution_count": 6,
   "id": "5739fae8",
   "metadata": {},
   "outputs": [
    {
     "name": "stdout",
     "output_type": "stream",
     "text": [
      "tensor([[0.5657, 0.9995]])\n"
     ]
    }
   ],
   "source": [
    "torch.manual_seed(190401015)\n",
    "weight1 = torch.randn(50, 3) \n",
    "bias1 = torch.randn(50, 1) \n",
    "\n",
    "weight2 = torch.randn(1,50)\n",
    "bias2 = torch.randn(1, 1)\n",
    "\n",
    "hidden1 = tanh_function(torch.matmul(weight1,x.T)+bias1)\n",
    "output1 = sigmoid_activation(torch.matmul(weight2,hidden1)+bias2)\n",
    "\n",
    "print(output1)"
   ]
  },
  {
   "cell_type": "code",
   "execution_count": null,
   "id": "062d0457",
   "metadata": {},
   "outputs": [],
   "source": []
  }
 ],
 "metadata": {
  "kernelspec": {
   "display_name": "Python 3 (ipykernel)",
   "language": "python",
   "name": "python3"
  },
  "language_info": {
   "codemirror_mode": {
    "name": "ipython",
    "version": 3
   },
   "file_extension": ".py",
   "mimetype": "text/x-python",
   "name": "python",
   "nbconvert_exporter": "python",
   "pygments_lexer": "ipython3",
   "version": "3.10.9"
  }
 },
 "nbformat": 4,
 "nbformat_minor": 5
}
