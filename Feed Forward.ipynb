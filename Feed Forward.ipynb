{
 "cells": [
  {
   "cell_type": "code",
   "execution_count": 1,
   "id": "09942930",
   "metadata": {},
   "outputs": [],
   "source": [
    "import torch"
   ]
  },
  {
   "cell_type": "markdown",
   "id": "2488bdc7",
   "metadata": {},
   "source": [
    "X Matrisimiz"
   ]
  },
  {
   "cell_type": "code",
   "execution_count": 2,
   "id": "000ee0a4",
   "metadata": {},
   "outputs": [
    {
     "data": {
      "text/plain": [
       "tensor([[1., 2., 3.],\n",
       "        [4., 5., 6.]])"
      ]
     },
     "execution_count": 2,
     "metadata": {},
     "output_type": "execute_result"
    }
   ],
   "source": [
    "x = torch.tensor([1,2,3,4,5,6]).reshape(-1,3).float()\n",
    "x"
   ]
  },
  {
   "cell_type": "markdown",
   "id": "c6865ecd",
   "metadata": {},
   "source": [
    "Sigmoid Fonksiyonumuz"
   ]
  },
  {
   "cell_type": "code",
   "execution_count": 3,
   "id": "272fc8a1",
   "metadata": {},
   "outputs": [],
   "source": [
    "# $f(x) = \\frac{1}{1 + exp(-x)}$\n",
    "\n",
    "def sigmoid_activation(x):\n",
    "  return 1 / (1 + torch.exp(-x))"
   ]
  },
  {
   "cell_type": "markdown",
   "id": "c799a06b",
   "metadata": {},
   "source": [
    "Tanh Fonksiyonumuz"
   ]
  },
  {
   "cell_type": "code",
   "execution_count": 4,
   "id": "f9db4cda",
   "metadata": {},
   "outputs": [],
   "source": [
    "# $f(x) = \\frac{exp(x) - exp(-x)}{exp(x) + exp(-x)}$\n",
    "def tanh_function(x):\n",
    "    return ((torch.exp(x)-torch.exp(-x))/(torch.exp(x)+torch.exp(-x)))"
   ]
  },
  {
   "cell_type": "markdown",
   "id": "84556321",
   "metadata": {},
   "source": [
    "Seed değerimiz = 1"
   ]
  },
  {
   "cell_type": "code",
   "execution_count": 10,
   "id": "d97ee20e",
   "metadata": {},
   "outputs": [
    {
     "name": "stdout",
     "output_type": "stream",
     "text": [
      "tensor([[0.3414, 0.4518]])\n"
     ]
    }
   ],
   "source": [
    "torch.manual_seed(1)\n",
    "weight1 = torch.randn(50, 3) \n",
    "bias1 = torch.randn(50, 1) \n",
    "\n",
    "weight2 = torch.randn(1,50)\n",
    "bias2 = torch.randn(1, 1)\n",
    "\n",
    "h1 = tanh_function(torch.matmul(weight1,x.T)+bias1)\n",
    "o1 = sigmoid_activation(torch.matmul(weight2,h1)+bias2)\n",
    "\n",
    "print(o1)"
   ]
  },
  {
   "cell_type": "markdown",
   "id": "823fbc7c",
   "metadata": {},
   "source": [
    "Seed değerimiz = Öğrenci Numaram = 190401015"
   ]
  },
  {
   "cell_type": "code",
   "execution_count": 11,
   "id": "c2123052",
   "metadata": {},
   "outputs": [
    {
     "name": "stdout",
     "output_type": "stream",
     "text": [
      "tensor([[0.5657, 0.9995]])\n"
     ]
    }
   ],
   "source": [
    "torch.manual_seed(190401015)\n",
    "weight1 = torch.randn(50, 3) \n",
    "bias1 = torch.randn(50, 1) \n",
    "\n",
    "weight2 = torch.randn(1,50)\n",
    "bias2 = torch.randn(1, 1)\n",
    "\n",
    "h1 = tanh_function(torch.matmul(weight1,x.T)+bias1)\n",
    "o1 = sigmoid_activation(torch.matmul(weight2,h1)+bias2)\n",
    "\n",
    "print(o1)"
   ]
  },
  {
   "cell_type": "code",
   "execution_count": null,
   "id": "a85ec6cf",
   "metadata": {},
   "outputs": [],
   "source": []
  }
 ],
 "metadata": {
  "kernelspec": {
   "display_name": "Python 3 (ipykernel)",
   "language": "python",
   "name": "python3"
  },
  "language_info": {
   "codemirror_mode": {
    "name": "ipython",
    "version": 3
   },
   "file_extension": ".py",
   "mimetype": "text/x-python",
   "name": "python",
   "nbconvert_exporter": "python",
   "pygments_lexer": "ipython3",
   "version": "3.10.9"
  }
 },
 "nbformat": 4,
 "nbformat_minor": 5
}
