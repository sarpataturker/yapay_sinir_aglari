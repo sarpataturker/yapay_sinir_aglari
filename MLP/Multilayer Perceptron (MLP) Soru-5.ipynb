{
 "cells": [
  {
   "cell_type": "code",
   "execution_count": 1,
   "id": "ddacb08f",
   "metadata": {},
   "outputs": [],
   "source": [
    "import time\n",
    "start = time.time()\n",
    "import torch\n",
    "import torch.nn as nn\n",
    "import torch.optim as optim\n",
    "from torch.utils.data import Dataset, DataLoader, TensorDataset\n",
    "from sklearn.metrics import accuracy_score, precision_score, recall_score, f1_score\n",
    "from sklearn.preprocessing import MultiLabelBinarizer\n",
    "import pandas as pd\n",
    "import numpy as np\n",
    "import os"
   ]
  },
  {
   "cell_type": "markdown",
   "id": "45d46d43",
   "metadata": {},
   "source": [
    "Seed değerimi giriyorum"
   ]
  },
  {
   "cell_type": "code",
   "execution_count": 2,
   "id": "8fa622c7",
   "metadata": {},
   "outputs": [
    {
     "data": {
      "text/plain": [
       "<torch._C.Generator at 0x108f3f5f0>"
      ]
     },
     "execution_count": 2,
     "metadata": {},
     "output_type": "execute_result"
    }
   ],
   "source": [
    "torch.manual_seed(190401015)"
   ]
  },
  {
   "cell_type": "markdown",
   "id": "34e166a2",
   "metadata": {},
   "source": [
    "MLP için class oluşturuyoruz.\n",
    "\n",
    "Creating new class for MLP"
   ]
  },
  {
   "cell_type": "code",
   "execution_count": 3,
   "id": "039fdb40",
   "metadata": {},
   "outputs": [],
   "source": [
    "class MLP(nn.Module):\n",
    "    def __init__(self, insize, hidden1, hidden2, outputsize):\n",
    "        super(MLP, self).__init__()\n",
    "        self.hidden_layer1 = nn.Linear(insize, hidden1)\n",
    "        self.hidden_layer2 = nn.Linear(hidden1, hidden2)\n",
    "        self.output_layer = nn.Linear(hidden2, outputsize)\n",
    "        self.relu = nn.ReLU()\n",
    "        self.sigmoid = nn.Sigmoid()\n",
    "\n",
    "    def forward(self, x):\n",
    "        output = self.relu(self.hidden_layer1(x))\n",
    "        output = self.relu(self.hidden_layer2(output))\n",
    "        output = self.sigmoid(self.output_layer(output))\n",
    "        return output"
   ]
  },
  {
   "cell_type": "markdown",
   "id": "1c90a50d",
   "metadata": {},
   "source": [
    "csv verimizi okuma \n",
    "\n",
    "reading the csv file"
   ]
  },
  {
   "cell_type": "code",
   "execution_count": 4,
   "id": "da6403f9",
   "metadata": {},
   "outputs": [],
   "source": [
    "training_data = pd.read_csv(\"./cure_the_princess_train.csv\")\n",
    "val_data = pd.read_csv(\"./cure_the_princess_validation.csv\")\n",
    "test_data = pd.read_csv(\"./cure_the_princess_test.csv\")\n",
    "labels = training_data.columns.tolist()\n",
    "num_of_classes = len(labels)\n",
    "train_x = training_data.iloc[:, :-1].values\n",
    "train_y = training_data.iloc[:, -1].values\n",
    "val_x = val_data.iloc[:, :-1].values\n",
    "val_y = val_data.iloc[:, -1].values\n",
    "test_x = test_data.iloc[:, :-1].values\n",
    "test_y = test_data.iloc[:, -1].values"
   ]
  },
  {
   "cell_type": "markdown",
   "id": "eff2639f",
   "metadata": {},
   "source": [
    "CustomData adında class oluşturup okunan verilerimizi işleme\n",
    "\n",
    "Creating new class called CustomData for using our data"
   ]
  },
  {
   "cell_type": "code",
   "execution_count": 5,
   "id": "c7049747",
   "metadata": {},
   "outputs": [],
   "source": [
    "class CustomData(Dataset):\n",
    "    def __init__(self, x, y):\n",
    "        self.x = torch.tensor(x, dtype=torch.float32)\n",
    "        self.y = torch.tensor(y, dtype=torch.long)\n",
    "\n",
    "    def __len__(self):\n",
    "        return len(self.x)\n",
    "\n",
    "    def __getitem__(self, idx):\n",
    "        return self.x[idx], self.y[idx]\n",
    "\n",
    "train_data = CustomData(train_x, train_y)\n",
    "validation_data = CustomData(val_x, val_y)\n",
    "test_data = CustomData(test_x, test_y)"
   ]
  },
  {
   "cell_type": "code",
   "execution_count": 6,
   "id": "1dadfee8",
   "metadata": {},
   "outputs": [],
   "source": [
    "learning_rate = 0.00167\n",
    "epochnum = 200\n",
    "bsize = 16\n",
    "insize = 13\n",
    "hidden1 = 100\n",
    "hidden2 = 50\n",
    "outsize = 1\n",
    "patience = 10"
   ]
  },
  {
   "cell_type": "code",
   "execution_count": 7,
   "id": "d40e9b3c",
   "metadata": {},
   "outputs": [],
   "source": [
    "model = MLP(insize, hidden1, hidden2, outsize)"
   ]
  },
  {
   "cell_type": "code",
   "execution_count": 8,
   "id": "81d20af5",
   "metadata": {},
   "outputs": [],
   "source": [
    "# Loss fonksiyonunu belirlemek / Determining loss function\n",
    "criterion = nn.BCELoss()\n",
    "\n",
    "# Optimizer'ı belirlemek / Determining optimizer\n",
    "optimizer = optim.SGD(model.parameters(), lr=learning_rate)"
   ]
  },
  {
   "cell_type": "code",
   "execution_count": 9,
   "id": "62cab5e7",
   "metadata": {},
   "outputs": [],
   "source": [
    "train_loader = torch.utils.data.DataLoader(train_data, batch_size=bsize, shuffle=True)\n",
    "valid_loader = torch.utils.data.DataLoader(validation_data, batch_size=bsize, shuffle=False)\n",
    "test_loader = torch.utils.data.DataLoader(test_data, batch_size=bsize, shuffle=False)"
   ]
  },
  {
   "cell_type": "code",
   "execution_count": 10,
   "id": "0db714c5",
   "metadata": {},
   "outputs": [],
   "source": [
    "train_loss_list = []\n",
    "valid_loss_list = []"
   ]
  },
  {
   "cell_type": "code",
   "execution_count": 11,
   "id": "4b001247",
   "metadata": {},
   "outputs": [
    {
     "name": "stdout",
     "output_type": "stream",
     "text": [
      "Epoch: 1 \tTraining Loss: 0.679726 \tValidation Loss: 0.594903\n",
      "Epoch: 2 \tTraining Loss: 0.582686 \tValidation Loss: 0.514434\n",
      "Epoch: 3 \tTraining Loss: 0.525498 \tValidation Loss: 0.458775\n",
      "Epoch: 4 \tTraining Loss: 0.484742 \tValidation Loss: 0.419505\n",
      "Epoch: 5 \tTraining Loss: 0.445706 \tValidation Loss: 0.401848\n",
      "Epoch: 6 \tTraining Loss: 0.419666 \tValidation Loss: 0.356211\n",
      "Epoch: 7 \tTraining Loss: 0.395933 \tValidation Loss: 0.333594\n",
      "Epoch: 8 \tTraining Loss: 0.375798 \tValidation Loss: 0.318667\n",
      "Epoch: 9 \tTraining Loss: 0.352688 \tValidation Loss: 0.334290\n",
      "Earlystopping Patience Counter: 1\n",
      "Epoch: 10 \tTraining Loss: 0.336368 \tValidation Loss: 0.298473\n",
      "Epoch: 11 \tTraining Loss: 0.326899 \tValidation Loss: 0.296004\n",
      "Epoch: 12 \tTraining Loss: 0.314086 \tValidation Loss: 0.272447\n",
      "Epoch: 13 \tTraining Loss: 0.304173 \tValidation Loss: 0.265857\n",
      "Epoch: 14 \tTraining Loss: 0.294756 \tValidation Loss: 0.336482\n",
      "Earlystopping Patience Counter: 1\n",
      "Epoch: 15 \tTraining Loss: 0.285755 \tValidation Loss: 0.308048\n",
      "Earlystopping Patience Counter: 2\n",
      "Epoch: 16 \tTraining Loss: 0.282899 \tValidation Loss: 0.233858\n",
      "Epoch: 17 \tTraining Loss: 0.270989 \tValidation Loss: 0.383065\n",
      "Earlystopping Patience Counter: 1\n",
      "Epoch: 18 \tTraining Loss: 0.262964 \tValidation Loss: 0.230949\n",
      "Epoch: 19 \tTraining Loss: 0.253108 \tValidation Loss: 0.220237\n",
      "Epoch: 20 \tTraining Loss: 0.250622 \tValidation Loss: 0.217571\n",
      "Epoch: 21 \tTraining Loss: 0.247429 \tValidation Loss: 0.245884\n",
      "Earlystopping Patience Counter: 1\n",
      "Epoch: 22 \tTraining Loss: 0.240873 \tValidation Loss: 0.213926\n",
      "Epoch: 23 \tTraining Loss: 0.236622 \tValidation Loss: 0.208277\n",
      "Epoch: 24 \tTraining Loss: 0.231706 \tValidation Loss: 0.229471\n",
      "Earlystopping Patience Counter: 1\n",
      "Epoch: 25 \tTraining Loss: 0.230281 \tValidation Loss: 0.206645\n",
      "Epoch: 26 \tTraining Loss: 0.221832 \tValidation Loss: 0.204402\n",
      "Epoch: 27 \tTraining Loss: 0.228705 \tValidation Loss: 0.201553\n",
      "Epoch: 28 \tTraining Loss: 0.218406 \tValidation Loss: 0.220244\n",
      "Earlystopping Patience Counter: 1\n",
      "Epoch: 29 \tTraining Loss: 0.223010 \tValidation Loss: 0.235845\n",
      "Earlystopping Patience Counter: 2\n",
      "Epoch: 30 \tTraining Loss: 0.213939 \tValidation Loss: 0.201233\n",
      "Epoch: 31 \tTraining Loss: 0.207981 \tValidation Loss: 0.193464\n",
      "Epoch: 32 \tTraining Loss: 0.209333 \tValidation Loss: 0.194400\n",
      "Earlystopping Patience Counter: 1\n",
      "Epoch: 33 \tTraining Loss: 0.204063 \tValidation Loss: 0.187231\n",
      "Epoch: 34 \tTraining Loss: 0.195974 \tValidation Loss: 0.191607\n",
      "Earlystopping Patience Counter: 1\n",
      "Epoch: 35 \tTraining Loss: 0.196710 \tValidation Loss: 0.183574\n",
      "Epoch: 36 \tTraining Loss: 0.197541 \tValidation Loss: 0.201695\n",
      "Earlystopping Patience Counter: 1\n",
      "Epoch: 37 \tTraining Loss: 0.190074 \tValidation Loss: 0.184946\n",
      "Earlystopping Patience Counter: 2\n",
      "Epoch: 38 \tTraining Loss: 0.202107 \tValidation Loss: 0.258494\n",
      "Earlystopping Patience Counter: 3\n",
      "Epoch: 39 \tTraining Loss: 0.190132 \tValidation Loss: 0.199158\n",
      "Earlystopping Patience Counter: 4\n",
      "Epoch: 40 \tTraining Loss: 0.186160 \tValidation Loss: 0.201536\n",
      "Earlystopping Patience Counter: 5\n",
      "Epoch: 41 \tTraining Loss: 0.186214 \tValidation Loss: 0.191139\n",
      "Earlystopping Patience Counter: 6\n",
      "Epoch: 42 \tTraining Loss: 0.184154 \tValidation Loss: 0.211951\n",
      "Earlystopping Patience Counter: 7\n",
      "Epoch: 43 \tTraining Loss: 0.179063 \tValidation Loss: 0.190757\n",
      "Earlystopping Patience Counter: 8\n",
      "Epoch: 44 \tTraining Loss: 0.174906 \tValidation Loss: 0.177737\n",
      "Epoch: 45 \tTraining Loss: 0.175676 \tValidation Loss: 0.180831\n",
      "Earlystopping Patience Counter: 1\n",
      "Epoch: 46 \tTraining Loss: 0.173699 \tValidation Loss: 0.177231\n",
      "Epoch: 47 \tTraining Loss: 0.172042 \tValidation Loss: 0.177104\n",
      "Epoch: 48 \tTraining Loss: 0.169456 \tValidation Loss: 0.174782\n",
      "Epoch: 49 \tTraining Loss: 0.169244 \tValidation Loss: 0.171481\n",
      "Epoch: 50 \tTraining Loss: 0.174620 \tValidation Loss: 0.190021\n",
      "Earlystopping Patience Counter: 1\n",
      "Epoch: 51 \tTraining Loss: 0.168163 \tValidation Loss: 0.174507\n",
      "Earlystopping Patience Counter: 2\n",
      "Epoch: 52 \tTraining Loss: 0.162875 \tValidation Loss: 0.182104\n",
      "Earlystopping Patience Counter: 3\n",
      "Epoch: 53 \tTraining Loss: 0.164524 \tValidation Loss: 0.175917\n",
      "Earlystopping Patience Counter: 4\n",
      "Epoch: 54 \tTraining Loss: 0.158741 \tValidation Loss: 0.188733\n",
      "Earlystopping Patience Counter: 5\n",
      "Epoch: 55 \tTraining Loss: 0.159020 \tValidation Loss: 0.182701\n",
      "Earlystopping Patience Counter: 6\n",
      "Epoch: 56 \tTraining Loss: 0.157661 \tValidation Loss: 0.170993\n",
      "Epoch: 57 \tTraining Loss: 0.156075 \tValidation Loss: 0.166336\n",
      "Epoch: 58 \tTraining Loss: 0.156304 \tValidation Loss: 0.173734\n",
      "Earlystopping Patience Counter: 1\n",
      "Epoch: 59 \tTraining Loss: 0.150045 \tValidation Loss: 0.169761\n",
      "Earlystopping Patience Counter: 2\n",
      "Epoch: 60 \tTraining Loss: 0.151584 \tValidation Loss: 0.168498\n",
      "Earlystopping Patience Counter: 3\n",
      "Epoch: 61 \tTraining Loss: 0.157263 \tValidation Loss: 0.199885\n",
      "Earlystopping Patience Counter: 4\n",
      "Epoch: 62 \tTraining Loss: 0.154541 \tValidation Loss: 0.167827\n",
      "Earlystopping Patience Counter: 5\n",
      "Epoch: 63 \tTraining Loss: 0.149316 \tValidation Loss: 0.163869\n",
      "Epoch: 64 \tTraining Loss: 0.146349 \tValidation Loss: 0.179396\n",
      "Earlystopping Patience Counter: 1\n",
      "Epoch: 65 \tTraining Loss: 0.147740 \tValidation Loss: 0.173157\n",
      "Earlystopping Patience Counter: 2\n",
      "Epoch: 66 \tTraining Loss: 0.151510 \tValidation Loss: 0.167613\n",
      "Earlystopping Patience Counter: 3\n",
      "Epoch: 67 \tTraining Loss: 0.147343 \tValidation Loss: 0.165967\n",
      "Earlystopping Patience Counter: 4\n",
      "Epoch: 68 \tTraining Loss: 0.146324 \tValidation Loss: 0.162488\n",
      "Epoch: 69 \tTraining Loss: 0.147894 \tValidation Loss: 0.216930\n",
      "Earlystopping Patience Counter: 1\n",
      "Epoch: 70 \tTraining Loss: 0.142650 \tValidation Loss: 0.175719\n",
      "Earlystopping Patience Counter: 2\n",
      "Epoch: 71 \tTraining Loss: 0.141032 \tValidation Loss: 0.159254\n",
      "Epoch: 72 \tTraining Loss: 0.139819 \tValidation Loss: 0.163236\n",
      "Earlystopping Patience Counter: 1\n",
      "Epoch: 73 \tTraining Loss: 0.138877 \tValidation Loss: 0.163459\n",
      "Earlystopping Patience Counter: 2\n",
      "Epoch: 74 \tTraining Loss: 0.138990 \tValidation Loss: 0.166334\n",
      "Earlystopping Patience Counter: 3\n",
      "Epoch: 75 \tTraining Loss: 0.136695 \tValidation Loss: 0.188877\n",
      "Earlystopping Patience Counter: 4\n",
      "Epoch: 76 \tTraining Loss: 0.136836 \tValidation Loss: 0.163601\n",
      "Earlystopping Patience Counter: 5\n",
      "Epoch: 77 \tTraining Loss: 0.138713 \tValidation Loss: 0.216107\n",
      "Earlystopping Patience Counter: 6\n",
      "Epoch: 78 \tTraining Loss: 0.135939 \tValidation Loss: 0.158696\n",
      "Epoch: 79 \tTraining Loss: 0.129375 \tValidation Loss: 0.156750\n",
      "Epoch: 80 \tTraining Loss: 0.135211 \tValidation Loss: 0.163023\n",
      "Earlystopping Patience Counter: 1\n",
      "Epoch: 81 \tTraining Loss: 0.132915 \tValidation Loss: 0.221141\n",
      "Earlystopping Patience Counter: 2\n",
      "Epoch: 82 \tTraining Loss: 0.132561 \tValidation Loss: 0.159389\n",
      "Earlystopping Patience Counter: 3\n",
      "Epoch: 83 \tTraining Loss: 0.131720 \tValidation Loss: 0.171865\n",
      "Earlystopping Patience Counter: 4\n",
      "Epoch: 84 \tTraining Loss: 0.130322 \tValidation Loss: 0.159064\n",
      "Earlystopping Patience Counter: 5\n",
      "Epoch: 85 \tTraining Loss: 0.127934 \tValidation Loss: 0.159839\n",
      "Earlystopping Patience Counter: 6\n",
      "Epoch: 86 \tTraining Loss: 0.125365 \tValidation Loss: 0.155939\n",
      "Epoch: 87 \tTraining Loss: 0.125898 \tValidation Loss: 0.159971\n",
      "Earlystopping Patience Counter: 1\n",
      "Epoch: 88 \tTraining Loss: 0.128008 \tValidation Loss: 0.231186\n",
      "Earlystopping Patience Counter: 2\n",
      "Epoch: 89 \tTraining Loss: 0.126297 \tValidation Loss: 0.157355\n",
      "Earlystopping Patience Counter: 3\n",
      "Epoch: 90 \tTraining Loss: 0.124520 \tValidation Loss: 0.158462\n",
      "Earlystopping Patience Counter: 4\n",
      "Epoch: 91 \tTraining Loss: 0.123897 \tValidation Loss: 0.172737\n",
      "Earlystopping Patience Counter: 5\n",
      "Epoch: 92 \tTraining Loss: 0.123074 \tValidation Loss: 0.160493\n",
      "Earlystopping Patience Counter: 6\n",
      "Epoch: 93 \tTraining Loss: 0.120308 \tValidation Loss: 0.157548\n",
      "Earlystopping Patience Counter: 7\n",
      "Epoch: 94 \tTraining Loss: 0.122461 \tValidation Loss: 0.158532\n",
      "Earlystopping Patience Counter: 8\n",
      "Epoch: 95 \tTraining Loss: 0.120179 \tValidation Loss: 0.176282\n",
      "Earlystopping Patience Counter: 9\n",
      "Epoch: 96 \tTraining Loss: 0.121994 \tValidation Loss: 0.160481\n",
      "Earlystopping Patience Counter: 10\n"
     ]
    }
   ],
   "source": [
    "patience_counter = 0\n",
    "best_value_loss = None\n",
    "for epoch in range(epochnum):\n",
    "    train_loss = 0.0\n",
    "    train_count = 0.0\n",
    "    valid_loss = 0.0\n",
    "\n",
    "    # Eğitim verileri üzerinde eğitim yapmak / Training\n",
    "    for data, target in train_loader:\n",
    "        optimizer.zero_grad()\n",
    "        output = model(data)\n",
    "        loss = criterion(output, target.unsqueeze(1).float())\n",
    "        loss.backward()\n",
    "        optimizer.step()\n",
    "        train_count += 1\n",
    "        train_loss += loss.item()\n",
    "\n",
    "    # Doğrulama verileri üzerinde test yapmak / Testing\n",
    "    with torch.no_grad():\n",
    "        model.eval()\n",
    "        for data, target in valid_loader:\n",
    "            output = model(data)\n",
    "            loss = criterion(output, target.unsqueeze(1).float())\n",
    "            valid_loss += loss.item()\n",
    "    \n",
    "    model.train()\n",
    "    # Loss değerlerini kaydetmek / Saving the Loss values\n",
    "    train_loss = train_loss / train_count\n",
    "    valid_loss = valid_loss / len(valid_loader)\n",
    "        \n",
    "    train_loss_list.append(train_loss)\n",
    "    valid_loss_list.append(valid_loss)\n",
    "    print('Epoch: {} \\tTraining Loss: {:.6f} \\tValidation Loss: {:.6f}'.format(\n",
    "        epoch + 1, train_loss, valid_loss))\n",
    "    \n",
    "    val_score = valid_loss\n",
    "    if best_value_loss is None:\n",
    "        best_value_loss = val_score # hafızada patience boyu tutmaya başla\n",
    "        torch.save(model.state_dict(), \"checkpoint.pt\")\n",
    "    elif best_value_loss < val_score: # patience counter\n",
    "        patience_counter = patience_counter + 1\n",
    "        print(\"Earlystopping Patience Counter:\",patience_counter)\n",
    "        if patience_counter == patience:\n",
    "            break\n",
    "    else:\n",
    "        best_value_loss = val_score\n",
    "        torch.save(model.state_dict(), \"checkpoint.pt\") # to keep the best model\n",
    "        patience_counter = 0"
   ]
  },
  {
   "cell_type": "code",
   "execution_count": 12,
   "id": "41d9b456",
   "metadata": {},
   "outputs": [
    {
     "data": {
      "image/png": "[encoded data removed]",
      "text/plain": [
       "<Figure size 640x480 with 1 Axes>"
      ]
     },
     "metadata": {},
     "output_type": "display_data"
    }
   ],
   "source": [
    "import seaborn as sns\n",
    "import matplotlib.pyplot as plt\n",
    "\n",
    "sns.set_style(\"whitegrid\")\n",
    "plt.plot(train_loss_list, label=\"Training loss\")\n",
    "plt.plot(valid_loss_list, label=\"Validation loss\")\n",
    "plt.xlabel(\"Epoch\")\n",
    "plt.ylabel(\"Loss\")\n",
    "plt.legend()\n",
    "plt.show()"
   ]
  },
  {
   "cell_type": "code",
   "execution_count": 13,
   "id": "cfbabb67",
   "metadata": {},
   "outputs": [
    {
     "name": "stdout",
     "output_type": "stream",
     "text": [
      "Accuracy: 0.9482\n",
      "F1 score: 0.9471\n",
      "Precision: 0.9728\n",
      "Recall: 0.9227\n"
     ]
    }
   ],
   "source": [
    "from sklearn.metrics import accuracy_score, f1_score, precision_score, recall_score\n",
    "\n",
    "model.load_state_dict(torch.load('checkpoint.pt'))\n",
    "\n",
    "preds = []\n",
    "tlabels = []\n",
    "model.eval()\n",
    "with torch.no_grad():\n",
    "    for inputs, labels in test_loader:\n",
    "        outputs = model(inputs)\n",
    "        predicted = torch.round(outputs)\n",
    "        preds.extend(predicted.detach().cpu().numpy())\n",
    "        tlabels.extend(labels.detach().cpu().numpy())\n",
    "\n",
    "accuracy = accuracy_score(tlabels, preds)\n",
    "f1 = f1_score(tlabels, preds)\n",
    "precision = precision_score(tlabels, preds)\n",
    "recall = recall_score(tlabels, preds)\n",
    "\n",
    "print(f'Accuracy: {accuracy:.4f}')\n",
    "print(f'F1 score: {f1:.4f}')\n",
    "print(f'Precision: {precision:.4f}')\n",
    "print(f'Recall: {recall:.4f}')"
   ]
  },
  {
   "cell_type": "code",
   "execution_count": 14,
   "id": "4193bc7f",
   "metadata": {},
   "outputs": [
    {
     "name": "stdout",
     "output_type": "stream",
     "text": [
      "Elapsed: 2.93 secs\n"
     ]
    }
   ],
   "source": [
    "end = time.time()\n",
    "elapsed = end - start\n",
    "print(\"Elapsed:\", f'{elapsed:.2f}', \"secs\")"
   ]
  }
 ],
 "metadata": {
  "kernelspec": {
   "display_name": "Python 3 (ipykernel)",
   "language": "python",
   "name": "python3"
  },
  "language_info": {
   "codemirror_mode": {
    "name": "ipython",
    "version": 3
   },
   "file_extension": ".py",
   "mimetype": "text/x-python",
   "name": "python",
   "nbconvert_exporter": "python",
   "pygments_lexer": "ipython3",
   "version": "3.10.9"
  }
 },
 "nbformat": 4,
 "nbformat_minor": 5
}
